{
 "cells": [
  {
   "cell_type": "markdown",
   "metadata": {},
   "source": [
    "**Objetivo del Ejercicio:** El objetivo de este ejercicio es que las alumnas utilicen Selenium en Python para automatizar la extracción de datos de los libros de ficción en el sitio web de La Casa del Libro. Deberán obtener información clave de los libros, incluyendo título, autor, precio, editorial, idioma y número de páginas.\n",
    "\n",
    "**Descripción:**\n",
    "\n",
    "- **Acceso a la Página de La Casa del Libro:** Utilizando Selenium, deberás automatizar el proceso de navegación hacia la página de libros de ficción en el sitio web de La Casa del Libro.\n",
    "\n",
    "- **Extracción de Datos de las 5 Primeras Páginas:** Una vez en la página de libros de ficción, debes programar su script para que recorra los 5 primeros libros de libros, extrayendo los siguientes datos de cada libro:\n",
    "\n",
    "    - Título del libro.\n",
    "\n",
    "    - Autor(es) del libro.\n",
    "\n",
    "    - Precio del libro.\n",
    "\n",
    "    - Editorial del libro.\n",
    "\n",
    "    - Idioma del libro.\n",
    "\n",
    "    - Número de páginas del libro.\n",
    "\n",
    "- **Almacenamiento de Datos:** Los datos extraídos deben almacenarse en un DataFrame."
   ]
  },
  {
   "cell_type": "code",
   "execution_count": 1,
   "metadata": {},
   "outputs": [],
   "source": [
    "import pandas as pd  \n",
    "from bs4 import BeautifulSoup\n",
    "import requests\n",
    "from selenium import webdriver  \n",
    "from webdriver_manager.chrome import ChromeDriverManager  \n",
    "from selenium.webdriver.common.keys import Keys  \n",
    "from selenium.webdriver.support.ui import Select  \n",
    "\n",
    "from time import sleep  \n",
    "\n",
    "pd.set_option('display.max_columns', None) "
   ]
  },
  {
   "cell_type": "code",
   "execution_count": 17,
   "metadata": {},
   "outputs": [],
   "source": [
    "driver = webdriver.Chrome()\n",
    "\n",
    "driver.get(\"https://www.casadellibro.com/\")\n",
    "\n",
    "sleep(2)\n",
    "\n",
    "driver.find_element(\"css selector\", \"#onetrust-accept-btn-handler\").click()\n",
    "\n",
    "sleep(4)\n",
    "\n",
    "driver.find_element(\"css selector\", \"#app > div.v-application--wrap > div.when-mobile > div.cabecera.mobile > div.top-row.py-2.px-3 > button:nth-child(1)\").click()\n",
    "\n",
    "sleep(2)\n",
    "\n",
    "driver.find_element(\"css selector\", \"#app > div.v-application--wrap > div.when-mobile > div.custom-navigation-drawer-mobile > div.v-item-group.theme--light.v-expansion-panels.v-expansion-panels--accordion.v-expansion-panels--flat > div:nth-child(2) > button\").click()\n",
    "\n",
    "sleep(1)\n",
    "\n",
    "driver.find_element(\"css selector\", \"#app > div.v-application--wrap > div.when-mobile > div.custom-navigation-drawer-mobile > div.v-item-group.theme--light.v-expansion-panels.v-expansion-panels--accordion.v-expansion-panels--flat > div.v-expansion-panel.v-expansion-panel--active.v-item--active > div > div > div > div:nth-child(1) > button\").click()\n",
    "\n",
    "sleep(3)\n",
    "\n",
    "driver.find_element(\"css selector\", \"#app > div.v-application--wrap > div.when-mobile > div.custom-navigation-drawer-mobile > div.v-item-group.theme--light.v-expansion-panels.v-expansion-panels--accordion.v-expansion-panels--flat > div.v-expansion-panel.v-expansion-panel--active.v-item--active > div > div > div > div.v-expansion-panel.v-expansion-panel--active.v-item--active > div > div > div > div:nth-child(1) > button\").click()\n",
    "\n",
    "sleep(5)\n",
    "\n",
    "driver.find_element(\"css selector\", f\"#app > div.v-application--wrap > main > div > div > div > div:nth-child({i}) > div > div > div.col-md-9.col-12 > div > div.grid-view.mt-4 > div:nth-child({i}) > div:nth-child(3) > a\")"
   ]
  },
  {
   "cell_type": "code",
   "execution_count": 14,
   "metadata": {},
   "outputs": [
    {
     "ename": "NoSuchElementException",
     "evalue": "Message: no such element: Unable to locate element: {\"method\":\"css selector\",\"selector\":\"#app > div.v-application--wrap > main > div > div > div > div:nth-child(1) > div > div > div.col-md-9.col-12 > div > div.grid-view.mt-4 > div:nth-child(1) > div:nth-child(3) > a\"}\n  (Session info: chrome=126.0.6478.127); For documentation on this error, please visit: https://www.selenium.dev/documentation/webdriver/troubleshooting/errors#no-such-element-exception\nStacktrace:\n\tGetHandleVerifier [0x00007FF6CB22EEA2+31554]\n\t(No symbol) [0x00007FF6CB1A7ED9]\n\t(No symbol) [0x00007FF6CB06872A]\n\t(No symbol) [0x00007FF6CB0B8434]\n\t(No symbol) [0x00007FF6CB0B853C]\n\t(No symbol) [0x00007FF6CB0FF6A7]\n\t(No symbol) [0x00007FF6CB0DD06F]\n\t(No symbol) [0x00007FF6CB0FC977]\n\t(No symbol) [0x00007FF6CB0DCDD3]\n\t(No symbol) [0x00007FF6CB0AA33B]\n\t(No symbol) [0x00007FF6CB0AAED1]\n\tGetHandleVerifier [0x00007FF6CB538B1D+3217341]\n\tGetHandleVerifier [0x00007FF6CB585AE3+3532675]\n\tGetHandleVerifier [0x00007FF6CB57B0E0+3489152]\n\tGetHandleVerifier [0x00007FF6CB2DE776+750614]\n\t(No symbol) [0x00007FF6CB1B375F]\n\t(No symbol) [0x00007FF6CB1AEB14]\n\t(No symbol) [0x00007FF6CB1AECA2]\n\t(No symbol) [0x00007FF6CB19E16F]\n\tBaseThreadInitThunk [0x00007FFD08AB7344+20]\n\tRtlUserThreadStart [0x00007FFD09B5CC91+33]\n",
     "output_type": "error",
     "traceback": [
      "\u001b[1;31m---------------------------------------------------------------------------\u001b[0m",
      "\u001b[1;31mNoSuchElementException\u001b[0m                    Traceback (most recent call last)",
      "Cell \u001b[1;32mIn[14], line 15\u001b[0m\n\u001b[0;32m     12\u001b[0m \u001b[38;5;28;01mfor\u001b[39;00m i \u001b[38;5;129;01min\u001b[39;00m \u001b[38;5;28mrange\u001b[39m(\u001b[38;5;241m1\u001b[39m, \u001b[38;5;241m3\u001b[39m):\n\u001b[0;32m     14\u001b[0m     selector \u001b[38;5;241m=\u001b[39m \u001b[38;5;124mf\u001b[39m\u001b[38;5;124m\"\u001b[39m\u001b[38;5;124m#app > div.v-application--wrap > main > div > div > div > div:nth-child(\u001b[39m\u001b[38;5;132;01m{\u001b[39;00mi\u001b[38;5;132;01m}\u001b[39;00m\u001b[38;5;124m) > div > div > div.col-md-9.col-12 > div > div.grid-view.mt-4 > div:nth-child(\u001b[39m\u001b[38;5;132;01m{\u001b[39;00mi\u001b[38;5;132;01m}\u001b[39;00m\u001b[38;5;124m) > div:nth-child(3) > a\u001b[39m\u001b[38;5;124m\"\u001b[39m\n\u001b[1;32m---> 15\u001b[0m     driver\u001b[38;5;241m.\u001b[39mfind_element(\u001b[38;5;124m\"\u001b[39m\u001b[38;5;124mcss selector\u001b[39m\u001b[38;5;124m\"\u001b[39m, selector)\u001b[38;5;241m.\u001b[39mclick()\n\u001b[0;32m     16\u001b[0m     \u001b[38;5;28mprint\u001b[39m(\u001b[38;5;124m\"\u001b[39m\u001b[38;5;124maccediendo\u001b[39m\u001b[38;5;124m\"\u001b[39m)\n",
      "File \u001b[1;32mc:\\Users\\bdive\\anaconda3\\Lib\\site-packages\\selenium\\webdriver\\remote\\webdriver.py:748\u001b[0m, in \u001b[0;36mWebDriver.find_element\u001b[1;34m(self, by, value)\u001b[0m\n\u001b[0;32m    745\u001b[0m     by \u001b[38;5;241m=\u001b[39m By\u001b[38;5;241m.\u001b[39mCSS_SELECTOR\n\u001b[0;32m    746\u001b[0m     value \u001b[38;5;241m=\u001b[39m \u001b[38;5;124mf\u001b[39m\u001b[38;5;124m'\u001b[39m\u001b[38;5;124m[name=\u001b[39m\u001b[38;5;124m\"\u001b[39m\u001b[38;5;132;01m{\u001b[39;00mvalue\u001b[38;5;132;01m}\u001b[39;00m\u001b[38;5;124m\"\u001b[39m\u001b[38;5;124m]\u001b[39m\u001b[38;5;124m'\u001b[39m\n\u001b[1;32m--> 748\u001b[0m \u001b[38;5;28;01mreturn\u001b[39;00m \u001b[38;5;28mself\u001b[39m\u001b[38;5;241m.\u001b[39mexecute(Command\u001b[38;5;241m.\u001b[39mFIND_ELEMENT, {\u001b[38;5;124m\"\u001b[39m\u001b[38;5;124musing\u001b[39m\u001b[38;5;124m\"\u001b[39m: by, \u001b[38;5;124m\"\u001b[39m\u001b[38;5;124mvalue\u001b[39m\u001b[38;5;124m\"\u001b[39m: value})[\u001b[38;5;124m\"\u001b[39m\u001b[38;5;124mvalue\u001b[39m\u001b[38;5;124m\"\u001b[39m]\n",
      "File \u001b[1;32mc:\\Users\\bdive\\anaconda3\\Lib\\site-packages\\selenium\\webdriver\\remote\\webdriver.py:354\u001b[0m, in \u001b[0;36mWebDriver.execute\u001b[1;34m(self, driver_command, params)\u001b[0m\n\u001b[0;32m    352\u001b[0m response \u001b[38;5;241m=\u001b[39m \u001b[38;5;28mself\u001b[39m\u001b[38;5;241m.\u001b[39mcommand_executor\u001b[38;5;241m.\u001b[39mexecute(driver_command, params)\n\u001b[0;32m    353\u001b[0m \u001b[38;5;28;01mif\u001b[39;00m response:\n\u001b[1;32m--> 354\u001b[0m     \u001b[38;5;28mself\u001b[39m\u001b[38;5;241m.\u001b[39merror_handler\u001b[38;5;241m.\u001b[39mcheck_response(response)\n\u001b[0;32m    355\u001b[0m     response[\u001b[38;5;124m\"\u001b[39m\u001b[38;5;124mvalue\u001b[39m\u001b[38;5;124m\"\u001b[39m] \u001b[38;5;241m=\u001b[39m \u001b[38;5;28mself\u001b[39m\u001b[38;5;241m.\u001b[39m_unwrap_value(response\u001b[38;5;241m.\u001b[39mget(\u001b[38;5;124m\"\u001b[39m\u001b[38;5;124mvalue\u001b[39m\u001b[38;5;124m\"\u001b[39m, \u001b[38;5;28;01mNone\u001b[39;00m))\n\u001b[0;32m    356\u001b[0m     \u001b[38;5;28;01mreturn\u001b[39;00m response\n",
      "File \u001b[1;32mc:\\Users\\bdive\\anaconda3\\Lib\\site-packages\\selenium\\webdriver\\remote\\errorhandler.py:229\u001b[0m, in \u001b[0;36mErrorHandler.check_response\u001b[1;34m(self, response)\u001b[0m\n\u001b[0;32m    227\u001b[0m         alert_text \u001b[38;5;241m=\u001b[39m value[\u001b[38;5;124m\"\u001b[39m\u001b[38;5;124malert\u001b[39m\u001b[38;5;124m\"\u001b[39m]\u001b[38;5;241m.\u001b[39mget(\u001b[38;5;124m\"\u001b[39m\u001b[38;5;124mtext\u001b[39m\u001b[38;5;124m\"\u001b[39m)\n\u001b[0;32m    228\u001b[0m     \u001b[38;5;28;01mraise\u001b[39;00m exception_class(message, screen, stacktrace, alert_text)  \u001b[38;5;66;03m# type: ignore[call-arg]  # mypy is not smart enough here\u001b[39;00m\n\u001b[1;32m--> 229\u001b[0m \u001b[38;5;28;01mraise\u001b[39;00m exception_class(message, screen, stacktrace)\n",
      "\u001b[1;31mNoSuchElementException\u001b[0m: Message: no such element: Unable to locate element: {\"method\":\"css selector\",\"selector\":\"#app > div.v-application--wrap > main > div > div > div > div:nth-child(1) > div > div > div.col-md-9.col-12 > div > div.grid-view.mt-4 > div:nth-child(1) > div:nth-child(3) > a\"}\n  (Session info: chrome=126.0.6478.127); For documentation on this error, please visit: https://www.selenium.dev/documentation/webdriver/troubleshooting/errors#no-such-element-exception\nStacktrace:\n\tGetHandleVerifier [0x00007FF6CB22EEA2+31554]\n\t(No symbol) [0x00007FF6CB1A7ED9]\n\t(No symbol) [0x00007FF6CB06872A]\n\t(No symbol) [0x00007FF6CB0B8434]\n\t(No symbol) [0x00007FF6CB0B853C]\n\t(No symbol) [0x00007FF6CB0FF6A7]\n\t(No symbol) [0x00007FF6CB0DD06F]\n\t(No symbol) [0x00007FF6CB0FC977]\n\t(No symbol) [0x00007FF6CB0DCDD3]\n\t(No symbol) [0x00007FF6CB0AA33B]\n\t(No symbol) [0x00007FF6CB0AAED1]\n\tGetHandleVerifier [0x00007FF6CB538B1D+3217341]\n\tGetHandleVerifier [0x00007FF6CB585AE3+3532675]\n\tGetHandleVerifier [0x00007FF6CB57B0E0+3489152]\n\tGetHandleVerifier [0x00007FF6CB2DE776+750614]\n\t(No symbol) [0x00007FF6CB1B375F]\n\t(No symbol) [0x00007FF6CB1AEB14]\n\t(No symbol) [0x00007FF6CB1AECA2]\n\t(No symbol) [0x00007FF6CB19E16F]\n\tBaseThreadInitThunk [0x00007FFD08AB7344+20]\n\tRtlUserThreadStart [0x00007FFD09B5CC91+33]\n"
     ]
    }
   ],
   "source": [
    "dic_libros = {\n",
    "    \"Título\": [],\n",
    "    \"Autor\": [],\n",
    "    \"Precio\": [],\n",
    "    \"Editorial\": [],\n",
    "    \"Idioma\": [],\n",
    "    \"Nº páginas\": [],\n",
    "}\n",
    "\n",
    "lista_url = []\n",
    "\n",
    "for i in range(1, 3):\n",
    "\n",
    "    selector = f\"#app > div.v-application--wrap > main > div > div > div > div:nth-child({i}) > div > div > div.col-md-9.col-12 > div > div.grid-view.mt-4 > div:nth-child({i}) > div:nth-child(3) > a\"\n",
    "    driver.find_element(\"css selector\", selector).click()\n",
    "    print(\"accediendo\")\n",
    "\n",
    "#for url in lista_url:\n",
    "\n",
    "    # res_libros = requests.get(url)\n",
    "\n",
    "    # print(\"Accediendo\")\n",
    "\n",
    "    # sopa_libros = BeautifulSoup(res_libros.content, \"html.parser\")\n",
    "\n",
    "    # dic_libros[\"Título\"].append(sopa_libros.find(\"h1\", {\"class\": \"h4\"}).text)\n",
    "\n",
    "    # dic_libros[\"Autor\"].append(sopa_libros.find(\"div\", {\"class\": \"h5\"}).text)\n",
    "\n",
    "    # dic_libros[\"Precio\"].append(sopa_libros.find(\"span\", {\"class\": \"regular-price\"}).text)\n",
    "\n",
    "    # dic_libros[\"Editorial\"].append(sopa_libros.find(\"span\", {\"class\": \"regular-price\"}).text)\n",
    "    \n",
    "    # dic_libros[\"Idioma\"].append(sopa_libros.find(\"span\", {\"class\": \"regular-price\"}).text)\n",
    "    \n",
    "    # dic_libros[\"Nº páginas\"].append(sopa_libros.find(\"span\", {\"class\": \"regular-price\"}).text)\n",
    "\n",
    "\n",
    "# convertir el diccionario a DataFrame\n",
    "# df_zapatillas = pd.DataFrame(dic_libros)\n",
    "# df_zapatillas"
   ]
  }
 ],
 "metadata": {
  "kernelspec": {
   "display_name": "base",
   "language": "python",
   "name": "python3"
  },
  "language_info": {
   "codemirror_mode": {
    "name": "ipython",
    "version": 3
   },
   "file_extension": ".py",
   "mimetype": "text/x-python",
   "name": "python",
   "nbconvert_exporter": "python",
   "pygments_lexer": "ipython3",
   "version": "3.11.7"
  }
 },
 "nbformat": 4,
 "nbformat_minor": 2
}
